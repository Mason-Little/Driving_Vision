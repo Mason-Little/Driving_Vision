{
 "cells": [
  {
   "cell_type": "markdown",
   "id": "02894669",
   "metadata": {},
   "source": [
    "# when you want to die this is how \n",
    "conda activate env_name\n",
    "\n",
    "pip install ipykernel --user\n",
    "\n",
    "python -m ipykernel install --user --name env_name --display-name env_name"
   ]
  },
  {
   "cell_type": "code",
   "execution_count": 8,
   "id": "4650e840",
   "metadata": {},
   "outputs": [
    {
     "name": "stdout",
     "output_type": "stream",
     "text": [
      "Collecting matplotlib\n",
      "  Using cached matplotlib-3.5.2-cp310-cp310-win_amd64.whl (7.2 MB)\n",
      "Requirement already satisfied: pyparsing>=2.2.1 in c:\\anaconda_3.9\\envs\\car_vision\\lib\\site-packages (from matplotlib) (3.0.9)\n",
      "Collecting kiwisolver>=1.0.1\n",
      "  Using cached kiwisolver-1.4.3-cp310-cp310-win_amd64.whl (55 kB)\n",
      "Collecting fonttools>=4.22.0\n",
      "  Using cached fonttools-4.33.3-py3-none-any.whl (930 kB)\n",
      "Requirement already satisfied: python-dateutil>=2.7 in c:\\anaconda_3.9\\envs\\car_vision\\lib\\site-packages (from matplotlib) (2.8.2)\n",
      "Requirement already satisfied: packaging>=20.0 in c:\\anaconda_3.9\\envs\\car_vision\\lib\\site-packages (from matplotlib) (21.3)\n",
      "Requirement already satisfied: numpy>=1.17 in c:\\anaconda_3.9\\envs\\car_vision\\lib\\site-packages (from matplotlib) (1.23.0)\n",
      "Requirement already satisfied: pillow>=6.2.0 in c:\\anaconda_3.9\\envs\\car_vision\\lib\\site-packages (from matplotlib) (9.2.0)\n",
      "Collecting cycler>=0.10\n",
      "  Using cached cycler-0.11.0-py3-none-any.whl (6.4 kB)\n",
      "Requirement already satisfied: six>=1.5 in c:\\anaconda_3.9\\envs\\car_vision\\lib\\site-packages (from python-dateutil>=2.7->matplotlib) (1.16.0)\n",
      "Installing collected packages: kiwisolver, fonttools, cycler, matplotlib\n",
      "Successfully installed cycler-0.11.0 fonttools-4.33.3 kiwisolver-1.4.3 matplotlib-3.5.2\n"
     ]
    }
   ],
   "source": [
    "!pip install matplotlib"
   ]
  },
  {
   "cell_type": "code",
   "execution_count": 35,
   "id": "2e43837e",
   "metadata": {},
   "outputs": [],
   "source": [
    "import tensorflow as tf\n",
    "import os\n",
    "import numpy as np\n",
    "from matplotlib import pyplot as plt\n",
    "import pathlib\n",
    "from keras.datasets import cifar10\n",
    "from keras.preprocessing.image import ImageDataGenerator\n",
    "from keras.models import Sequential\n",
    "from keras.layers import Dense, Dropout, Activation, Flatten\n",
    "from keras.layers import Conv2D, MaxPooling2D"
   ]
  },
  {
   "cell_type": "code",
   "execution_count": 36,
   "id": "e6c02e40",
   "metadata": {},
   "outputs": [
    {
     "data": {
      "text/plain": [
       "WindowsPath('D:/DATA_UPLOAD')"
      ]
     },
     "execution_count": 36,
     "metadata": {},
     "output_type": "execute_result"
    }
   ],
   "source": [
    "data_dir = pathlib.Path('D:\\DATA_UPLOAD')\n",
    "data_dir"
   ]
  },
  {
   "cell_type": "code",
   "execution_count": 37,
   "id": "bb3ae872",
   "metadata": {},
   "outputs": [],
   "source": [
    "image_size = (500, 500)\n",
    "batch_size = 32"
   ]
  },
  {
   "cell_type": "code",
   "execution_count": 63,
   "id": "c4b5c7d5",
   "metadata": {},
   "outputs": [
    {
     "name": "stdout",
     "output_type": "stream",
     "text": [
      "Found 745 files belonging to 24 classes.\n",
      "Using 596 files for training.\n"
     ]
    }
   ],
   "source": [
    "Training_Data = tf.keras.utils.image_dataset_from_directory(\n",
    "    data_dir,\n",
    "    image_size = (500, 500),\n",
    "    batch_size = 32,\n",
    "    validation_split = 0.2,\n",
    "    subset = 'training',\n",
    "    seed = 42\n",
    ")"
   ]
  },
  {
   "cell_type": "code",
   "execution_count": 64,
   "id": "fbd8cbaf",
   "metadata": {},
   "outputs": [
    {
     "name": "stdout",
     "output_type": "stream",
     "text": [
      "Found 745 files belonging to 24 classes.\n",
      "Using 149 files for validation.\n"
     ]
    }
   ],
   "source": [
    "Validation_Data = tf.keras.utils.image_dataset_from_directory(\n",
    "    data_dir,\n",
    "    image_size = (500, 500),\n",
    "    batch_size = 32,\n",
    "    validation_split = 0.2,\n",
    "    subset = 'validation',\n",
    "    seed = 42\n",
    ")"
   ]
  },
  {
   "cell_type": "code",
   "execution_count": 65,
   "id": "51a64c71",
   "metadata": {},
   "outputs": [],
   "source": [
    "normalization_layer = tf.keras.layers.Rescaling(1./255)"
   ]
  },
  {
   "cell_type": "code",
   "execution_count": 66,
   "id": "2f4dc768",
   "metadata": {},
   "outputs": [
    {
     "name": "stdout",
     "output_type": "stream",
     "text": [
      "0.0017838614 1.0\n"
     ]
    }
   ],
   "source": [
    "normalized_ds = Training_Data.map(lambda x, y: (normalization_layer(x), y))\n",
    "image_batch, labels_batch = next(iter(normalized_ds))\n",
    "# Notice the pixel values are now in `[0,1]`.\n",
    "print(np.min(image_batch[0]), np.max(image_batch[0]))\n"
   ]
  },
  {
   "cell_type": "code",
   "execution_count": 67,
   "id": "667ebded",
   "metadata": {},
   "outputs": [],
   "source": [
    "AUTOTUNE = tf.data.AUTOTUNE\n",
    "\n",
    "Training_Data = Training_Data.cache().prefetch(buffer_size=AUTOTUNE)\n",
    "Validation_Data = Validation_Data.cache().prefetch(buffer_size=AUTOTUNE)"
   ]
  },
  {
   "cell_type": "code",
   "execution_count": 70,
   "id": "eda8f960",
   "metadata": {},
   "outputs": [],
   "source": [
    "num_classes = 24\n",
    "\n",
    "model = tf.keras.Sequential([\n",
    "  tf.keras.layers.Rescaling(1./255),\n",
    "  tf.keras.layers.Conv2D(32, (3, 3), 1, activation='relu'),\n",
    "  tf.keras.layers.MaxPooling2D(),\n",
    "  tf.keras.layers.Conv2D(64, (3, 3), 1, activation='relu'),\n",
    "  tf.keras.layers.MaxPooling2D(),\n",
    "  tf.keras.layers.Conv2D(128, (3, 3), 1, activation='relu'),\n",
    "  tf.keras.layers.MaxPooling2D(),\n",
    "  tf.keras.layers.Flatten(),\n",
    "  tf.keras.layers.Dense(128, activation='relu'),\n",
    "  tf.keras.layers.Dropout(.2),\n",
    "  tf.keras.layers.Dense(128, activation='relu'),\n",
    "  tf.keras.layers.Dense(num_classes)\n",
    "])\n",
    "\n"
   ]
  },
  {
   "cell_type": "code",
   "execution_count": 71,
   "id": "2af9e3d3",
   "metadata": {},
   "outputs": [],
   "source": [
    "model.compile(\n",
    "  optimizer='adam',\n",
    "  loss=tf.losses.SparseCategoricalCrossentropy(from_logits=True),\n",
    "  metrics=['accuracy'])"
   ]
  },
  {
   "cell_type": "code",
   "execution_count": 72,
   "id": "9d182395",
   "metadata": {
    "scrolled": true
   },
   "outputs": [
    {
     "name": "stdout",
     "output_type": "stream",
     "text": [
      "Epoch 1/7\n",
      "19/19 [==============================] - 8s 389ms/step - loss: 3.5739 - accuracy: 0.1527 - val_loss: 2.8418 - val_accuracy: 0.2013\n",
      "Epoch 2/7\n",
      "19/19 [==============================] - 4s 207ms/step - loss: 2.6443 - accuracy: 0.2433 - val_loss: 2.7276 - val_accuracy: 0.2013\n",
      "Epoch 3/7\n",
      "19/19 [==============================] - 4s 207ms/step - loss: 2.4850 - accuracy: 0.2685 - val_loss: 2.6596 - val_accuracy: 0.2148\n",
      "Epoch 4/7\n",
      "19/19 [==============================] - 4s 206ms/step - loss: 2.0803 - accuracy: 0.3591 - val_loss: 2.6843 - val_accuracy: 0.2617\n",
      "Epoch 5/7\n",
      "19/19 [==============================] - 4s 207ms/step - loss: 1.4545 - accuracy: 0.5503 - val_loss: 2.7022 - val_accuracy: 0.2752\n",
      "Epoch 6/7\n",
      "19/19 [==============================] - 4s 208ms/step - loss: 0.8708 - accuracy: 0.7416 - val_loss: 3.5802 - val_accuracy: 0.2483\n",
      "Epoch 7/7\n",
      "19/19 [==============================] - 4s 207ms/step - loss: 0.5087 - accuracy: 0.8356 - val_loss: 3.4319 - val_accuracy: 0.2483\n"
     ]
    }
   ],
   "source": [
    "history = model.fit(\n",
    "  Training_Data,\n",
    "  validation_data=Validation_Data,\n",
    "  epochs=7\n",
    ")"
   ]
  },
  {
   "cell_type": "code",
   "execution_count": 26,
   "id": "e06f9251",
   "metadata": {},
   "outputs": [
    {
     "name": "stdout",
     "output_type": "stream",
     "text": [
      "dict_keys(['loss', 'accuracy', 'val_loss', 'val_accuracy'])\n"
     ]
    }
   ],
   "source": [
    "print(history.history.keys())"
   ]
  },
  {
   "cell_type": "code",
   "execution_count": 73,
   "id": "e79da167",
   "metadata": {},
   "outputs": [
    {
     "data": {
      "image/png": "[encoded data removed]",
      "text/plain": [
       "<Figure size 432x288 with 1 Axes>"
      ]
     },
     "metadata": {
      "needs_background": "light"
     },
     "output_type": "display_data"
    }
   ],
   "source": [
    "plt.plot(history.history['accuracy'])\n",
    "plt.plot(history.history['val_accuracy'])\n",
    "plt.title('model accuracy')\n",
    "plt.ylabel('accuracy')\n",
    "plt.xlabel('epoch')\n",
    "plt.legend(['train', 'test'], loc='upper left')\n",
    "plt.show()"
   ]
  },
  {
   "cell_type": "code",
   "execution_count": 74,
   "id": "d80292cf",
   "metadata": {},
   "outputs": [
    {
     "data": {
      "image/png": "[encoded data removed]",
      "text/plain": [
       "<Figure size 432x288 with 1 Axes>"
      ]
     },
     "metadata": {
      "needs_background": "light"
     },
     "output_type": "display_data"
    }
   ],
   "source": [
    "plt.plot(history.history['loss'])\n",
    "plt.plot(history.history['val_loss'])\n",
    "plt.title('model loss')\n",
    "plt.ylabel('loss')\n",
    "plt.xlabel('epoch')\n",
    "plt.legend(['train', 'test'], loc='upper left')\n",
    "plt.show()"
   ]
  },
  {
   "cell_type": "code",
   "execution_count": null,
   "id": "636db912",
   "metadata": {},
   "outputs": [],
   "source": []
  }
 ],
 "metadata": {
  "kernelspec": {
   "display_name": "car_vision",
   "language": "python",
   "name": "car_vision"
  },
  "language_info": {
   "codemirror_mode": {
    "name": "ipython",
    "version": 3
   },
   "file_extension": ".py",
   "mimetype": "text/x-python",
   "name": "python",
   "nbconvert_exporter": "python",
   "pygments_lexer": "ipython3",
   "version": "3.10.4"
  }
 },
 "nbformat": 4,
 "nbformat_minor": 5
}
